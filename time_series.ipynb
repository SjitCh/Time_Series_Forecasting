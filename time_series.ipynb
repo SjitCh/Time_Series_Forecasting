{
 "cells": [
  {
   "cell_type": "code",
   "execution_count": 146,
   "metadata": {},
   "outputs": [],
   "source": [
    "%matplotlib inline\n",
    "import numpy as np\n",
    "import pandas as pd\n",
    "import matplotlib.pylab\n",
    "import matplotlib.pyplot as plt\n",
    "import statsmodels.tsa.seasonal as seasonal\n",
    "import statsmodels as sm"
   ]
  },
  {
   "cell_type": "code",
   "execution_count": 147,
   "metadata": {},
   "outputs": [],
   "source": [
    "df = pd.read_excel(\"case_study_ML.xlsx\")"
   ]
  },
  {
   "cell_type": "code",
   "execution_count": 148,
   "metadata": {},
   "outputs": [
    {
     "data": {
      "text/html": [
       "<div>\n",
       "<style scoped>\n",
       "    .dataframe tbody tr th:only-of-type {\n",
       "        vertical-align: middle;\n",
       "    }\n",
       "\n",
       "    .dataframe tbody tr th {\n",
       "        vertical-align: top;\n",
       "    }\n",
       "\n",
       "    .dataframe thead th {\n",
       "        text-align: right;\n",
       "    }\n",
       "</style>\n",
       "<table border=\"1\" class=\"dataframe\">\n",
       "  <thead>\n",
       "    <tr style=\"text-align: right;\">\n",
       "      <th></th>\n",
       "      <th>SKU</th>\n",
       "      <th>Sales</th>\n",
       "      <th>Season</th>\n",
       "    </tr>\n",
       "    <tr>\n",
       "      <th>ISO_Week</th>\n",
       "      <th></th>\n",
       "      <th></th>\n",
       "      <th></th>\n",
       "    </tr>\n",
       "  </thead>\n",
       "  <tbody>\n",
       "    <tr>\n",
       "      <th>2018-01-07</th>\n",
       "      <td>colgate</td>\n",
       "      <td>0.0</td>\n",
       "      <td>WINTER</td>\n",
       "    </tr>\n",
       "    <tr>\n",
       "      <th>2018-01-14</th>\n",
       "      <td>colgate</td>\n",
       "      <td>0.0</td>\n",
       "      <td>WINTER</td>\n",
       "    </tr>\n",
       "    <tr>\n",
       "      <th>2018-01-21</th>\n",
       "      <td>colgate</td>\n",
       "      <td>0.0</td>\n",
       "      <td>WINTER</td>\n",
       "    </tr>\n",
       "    <tr>\n",
       "      <th>2018-01-28</th>\n",
       "      <td>colgate</td>\n",
       "      <td>6988.0</td>\n",
       "      <td>WINTER</td>\n",
       "    </tr>\n",
       "    <tr>\n",
       "      <th>2018-01-28</th>\n",
       "      <td>colgate</td>\n",
       "      <td>6988.0</td>\n",
       "      <td>WINTER</td>\n",
       "    </tr>\n",
       "  </tbody>\n",
       "</table>\n",
       "</div>"
      ],
      "text/plain": [
       "                SKU   Sales  Season\n",
       "ISO_Week                           \n",
       "2018-01-07  colgate     0.0  WINTER\n",
       "2018-01-14  colgate     0.0  WINTER\n",
       "2018-01-21  colgate     0.0  WINTER\n",
       "2018-01-28  colgate  6988.0  WINTER\n",
       "2018-01-28  colgate  6988.0  WINTER"
      ]
     },
     "execution_count": 148,
     "metadata": {},
     "output_type": "execute_result"
    }
   ],
   "source": [
    "df.ISO_Week = pd.to_datetime(df.ISO_Week.add('-0'), format='%Y-%W-%w')\n",
    "df.set_index('ISO_Week',inplace = True)\n",
    "df.head()"
   ]
  },
  {
   "cell_type": "code",
   "execution_count": 149,
   "metadata": {},
   "outputs": [
    {
     "data": {
      "text/html": [
       "<div>\n",
       "<style scoped>\n",
       "    .dataframe tbody tr th:only-of-type {\n",
       "        vertical-align: middle;\n",
       "    }\n",
       "\n",
       "    .dataframe tbody tr th {\n",
       "        vertical-align: top;\n",
       "    }\n",
       "\n",
       "    .dataframe thead th {\n",
       "        text-align: right;\n",
       "    }\n",
       "</style>\n",
       "<table border=\"1\" class=\"dataframe\">\n",
       "  <thead>\n",
       "    <tr style=\"text-align: right;\">\n",
       "      <th></th>\n",
       "      <th>SKU</th>\n",
       "    </tr>\n",
       "    <tr>\n",
       "      <th>ISO_Week</th>\n",
       "      <th></th>\n",
       "    </tr>\n",
       "  </thead>\n",
       "  <tbody>\n",
       "    <tr>\n",
       "      <th>2018-03-18</th>\n",
       "      <td>colgate</td>\n",
       "    </tr>\n",
       "    <tr>\n",
       "      <th>2018-03-25</th>\n",
       "      <td>colgate</td>\n",
       "    </tr>\n",
       "    <tr>\n",
       "      <th>2018-04-01</th>\n",
       "      <td>colgate</td>\n",
       "    </tr>\n",
       "    <tr>\n",
       "      <th>2018-04-08</th>\n",
       "      <td>colgate</td>\n",
       "    </tr>\n",
       "    <tr>\n",
       "      <th>2018-04-15</th>\n",
       "      <td>colgate</td>\n",
       "    </tr>\n",
       "  </tbody>\n",
       "</table>\n",
       "</div>"
      ],
      "text/plain": [
       "                SKU\n",
       "ISO_Week           \n",
       "2018-03-18  colgate\n",
       "2018-03-25  colgate\n",
       "2018-04-01  colgate\n",
       "2018-04-08  colgate\n",
       "2018-04-15  colgate"
      ]
     },
     "execution_count": 149,
     "metadata": {},
     "output_type": "execute_result"
    }
   ],
   "source": [
    "exog_var = pd.read_csv(\"exog_var.csv\")\n",
    "exog_var.Weeks = pd.to_datetime(exog_var.Weeks.add('-0'), format='%Y-%W-%w')\n",
    "exog_var.rename(columns = {'Weeks':'ISO_Week'},inplace=True)\n",
    "exog_var.set_index('ISO_Week',inplace = True)\n",
    "exog_var.head()"
   ]
  },
  {
   "cell_type": "code",
   "execution_count": 150,
   "metadata": {},
   "outputs": [
    {
     "data": {
      "text/html": [
       "<div>\n",
       "<style scoped>\n",
       "    .dataframe tbody tr th:only-of-type {\n",
       "        vertical-align: middle;\n",
       "    }\n",
       "\n",
       "    .dataframe tbody tr th {\n",
       "        vertical-align: top;\n",
       "    }\n",
       "\n",
       "    .dataframe thead th {\n",
       "        text-align: right;\n",
       "    }\n",
       "</style>\n",
       "<table border=\"1\" class=\"dataframe\">\n",
       "  <thead>\n",
       "    <tr style=\"text-align: right;\">\n",
       "      <th></th>\n",
       "      <th>SKU</th>\n",
       "      <th>offer</th>\n",
       "    </tr>\n",
       "    <tr>\n",
       "      <th>ISO_Week</th>\n",
       "      <th></th>\n",
       "      <th></th>\n",
       "    </tr>\n",
       "  </thead>\n",
       "  <tbody>\n",
       "    <tr>\n",
       "      <th>2018-03-18</th>\n",
       "      <td>colgate</td>\n",
       "      <td>1</td>\n",
       "    </tr>\n",
       "    <tr>\n",
       "      <th>2018-03-25</th>\n",
       "      <td>colgate</td>\n",
       "      <td>1</td>\n",
       "    </tr>\n",
       "    <tr>\n",
       "      <th>2018-04-01</th>\n",
       "      <td>colgate</td>\n",
       "      <td>1</td>\n",
       "    </tr>\n",
       "    <tr>\n",
       "      <th>2018-04-08</th>\n",
       "      <td>colgate</td>\n",
       "      <td>1</td>\n",
       "    </tr>\n",
       "    <tr>\n",
       "      <th>2018-04-15</th>\n",
       "      <td>colgate</td>\n",
       "      <td>1</td>\n",
       "    </tr>\n",
       "  </tbody>\n",
       "</table>\n",
       "</div>"
      ],
      "text/plain": [
       "                SKU  offer\n",
       "ISO_Week                  \n",
       "2018-03-18  colgate      1\n",
       "2018-03-25  colgate      1\n",
       "2018-04-01  colgate      1\n",
       "2018-04-08  colgate      1\n",
       "2018-04-15  colgate      1"
      ]
     },
     "execution_count": 150,
     "metadata": {},
     "output_type": "execute_result"
    }
   ],
   "source": [
    "exog_var['offer'] = 1\n",
    "exog_var.head()"
   ]
  },
  {
   "cell_type": "code",
   "execution_count": 151,
   "metadata": {},
   "outputs": [
    {
     "data": {
      "text/plain": [
       "Timestamp('2018-10-21 00:00:00')"
      ]
     },
     "execution_count": 151,
     "metadata": {},
     "output_type": "execute_result"
    }
   ],
   "source": [
    "x=pd.to_datetime('2018-42-0',format='%Y-%W-%w')\n",
    "x"
   ]
  },
  {
   "cell_type": "markdown",
   "metadata": {},
   "source": [
    "## Colgate"
   ]
  },
  {
   "cell_type": "code",
   "execution_count": 152,
   "metadata": {},
   "outputs": [
    {
     "data": {
      "text/html": [
       "<div>\n",
       "<style scoped>\n",
       "    .dataframe tbody tr th:only-of-type {\n",
       "        vertical-align: middle;\n",
       "    }\n",
       "\n",
       "    .dataframe tbody tr th {\n",
       "        vertical-align: top;\n",
       "    }\n",
       "\n",
       "    .dataframe thead th {\n",
       "        text-align: right;\n",
       "    }\n",
       "</style>\n",
       "<table border=\"1\" class=\"dataframe\">\n",
       "  <thead>\n",
       "    <tr style=\"text-align: right;\">\n",
       "      <th></th>\n",
       "      <th>SKU</th>\n",
       "      <th>Sales</th>\n",
       "      <th>Season</th>\n",
       "      <th>offer</th>\n",
       "    </tr>\n",
       "    <tr>\n",
       "      <th>ISO_Week</th>\n",
       "      <th></th>\n",
       "      <th></th>\n",
       "      <th></th>\n",
       "      <th></th>\n",
       "    </tr>\n",
       "  </thead>\n",
       "  <tbody>\n",
       "    <tr>\n",
       "      <th>2018-01-07</th>\n",
       "      <td>colgate</td>\n",
       "      <td>0.0</td>\n",
       "      <td>WINTER</td>\n",
       "      <td>0.0</td>\n",
       "    </tr>\n",
       "    <tr>\n",
       "      <th>2018-01-14</th>\n",
       "      <td>colgate</td>\n",
       "      <td>0.0</td>\n",
       "      <td>WINTER</td>\n",
       "      <td>0.0</td>\n",
       "    </tr>\n",
       "    <tr>\n",
       "      <th>2018-01-21</th>\n",
       "      <td>colgate</td>\n",
       "      <td>0.0</td>\n",
       "      <td>WINTER</td>\n",
       "      <td>0.0</td>\n",
       "    </tr>\n",
       "    <tr>\n",
       "      <th>2018-01-28</th>\n",
       "      <td>colgate</td>\n",
       "      <td>6988.0</td>\n",
       "      <td>WINTER</td>\n",
       "      <td>0.0</td>\n",
       "    </tr>\n",
       "    <tr>\n",
       "      <th>2018-01-28</th>\n",
       "      <td>colgate</td>\n",
       "      <td>6988.0</td>\n",
       "      <td>WINTER</td>\n",
       "      <td>0.0</td>\n",
       "    </tr>\n",
       "  </tbody>\n",
       "</table>\n",
       "</div>"
      ],
      "text/plain": [
       "                SKU   Sales  Season  offer\n",
       "ISO_Week                                  \n",
       "2018-01-07  colgate     0.0  WINTER    0.0\n",
       "2018-01-14  colgate     0.0  WINTER    0.0\n",
       "2018-01-21  colgate     0.0  WINTER    0.0\n",
       "2018-01-28  colgate  6988.0  WINTER    0.0\n",
       "2018-01-28  colgate  6988.0  WINTER    0.0"
      ]
     },
     "execution_count": 152,
     "metadata": {},
     "output_type": "execute_result"
    }
   ],
   "source": [
    "df_colgate = df[df.SKU == 'colgate']\n",
    "exog_var_colgate = exog_var[exog_var.SKU=='colgate']\n",
    "exog_var_colgate.drop('SKU',axis =1,inplace=True)\n",
    "data_colgate = pd.merge(df_colgate,exog_var_colgate,on='ISO_Week',how = 'left')\n",
    "data_colgate['offer'].fillna(0,inplace = True)\n",
    "data_colgate.head()"
   ]
  },
  {
   "cell_type": "markdown",
   "metadata": {},
   "source": [
    "#### Creating Train Set"
   ]
  },
  {
   "cell_type": "code",
   "execution_count": 153,
   "metadata": {},
   "outputs": [],
   "source": [
    "data_colgate_train = data_colgate.loc[:'2018-10-20',:]"
   ]
  },
  {
   "cell_type": "markdown",
   "metadata": {},
   "source": [
    "#### Calculate Mean"
   ]
  },
  {
   "cell_type": "code",
   "execution_count": 154,
   "metadata": {},
   "outputs": [],
   "source": [
    "colgate_sales_mean = data_colgate_train[data_colgate_train.Sales>0].Sales.mean(skipna=True)"
   ]
  },
  {
   "cell_type": "markdown",
   "metadata": {},
   "source": [
    "#### Outlier Treatment"
   ]
  },
  {
   "cell_type": "code",
   "execution_count": 155,
   "metadata": {},
   "outputs": [],
   "source": [
    "data_colgate_train = data_colgate_train[np.abs(data_colgate_train.Sales-data_colgate_train.Sales.mean())<=(3*data_colgate_train.Sales.std())]"
   ]
  },
  {
   "cell_type": "markdown",
   "metadata": {},
   "source": [
    "#### NA and less than 0 Value cleaning"
   ]
  },
  {
   "cell_type": "code",
   "execution_count": 156,
   "metadata": {},
   "outputs": [],
   "source": [
    "data_colgate_train.fillna(colgate_sales_mean,inplace = True)"
   ]
  },
  {
   "cell_type": "code",
   "execution_count": 157,
   "metadata": {},
   "outputs": [],
   "source": [
    "data_colgate_train = data_colgate_train[data_colgate_train.Sales>0]"
   ]
  },
  {
   "cell_type": "code",
   "execution_count": 158,
   "metadata": {},
   "outputs": [
    {
     "data": {
      "text/html": [
       "<div>\n",
       "<style scoped>\n",
       "    .dataframe tbody tr th:only-of-type {\n",
       "        vertical-align: middle;\n",
       "    }\n",
       "\n",
       "    .dataframe tbody tr th {\n",
       "        vertical-align: top;\n",
       "    }\n",
       "\n",
       "    .dataframe thead th {\n",
       "        text-align: right;\n",
       "    }\n",
       "</style>\n",
       "<table border=\"1\" class=\"dataframe\">\n",
       "  <thead>\n",
       "    <tr style=\"text-align: right;\">\n",
       "      <th></th>\n",
       "      <th>SKU</th>\n",
       "      <th>Sales</th>\n",
       "      <th>Season</th>\n",
       "      <th>offer</th>\n",
       "    </tr>\n",
       "    <tr>\n",
       "      <th>ISO_Week</th>\n",
       "      <th></th>\n",
       "      <th></th>\n",
       "      <th></th>\n",
       "      <th></th>\n",
       "    </tr>\n",
       "  </thead>\n",
       "  <tbody>\n",
       "    <tr>\n",
       "      <th>2018-01-28</th>\n",
       "      <td>colgate</td>\n",
       "      <td>6988.0</td>\n",
       "      <td>WINTER</td>\n",
       "      <td>0.0</td>\n",
       "    </tr>\n",
       "    <tr>\n",
       "      <th>2018-01-28</th>\n",
       "      <td>colgate</td>\n",
       "      <td>6988.0</td>\n",
       "      <td>WINTER</td>\n",
       "      <td>0.0</td>\n",
       "    </tr>\n",
       "    <tr>\n",
       "      <th>2018-02-04</th>\n",
       "      <td>colgate</td>\n",
       "      <td>6743.0</td>\n",
       "      <td>WINTER</td>\n",
       "      <td>0.0</td>\n",
       "    </tr>\n",
       "    <tr>\n",
       "      <th>2018-02-11</th>\n",
       "      <td>colgate</td>\n",
       "      <td>4112.0</td>\n",
       "      <td>WINTER</td>\n",
       "      <td>0.0</td>\n",
       "    </tr>\n",
       "    <tr>\n",
       "      <th>2018-02-18</th>\n",
       "      <td>colgate</td>\n",
       "      <td>5732.0</td>\n",
       "      <td>WINTER</td>\n",
       "      <td>0.0</td>\n",
       "    </tr>\n",
       "  </tbody>\n",
       "</table>\n",
       "</div>"
      ],
      "text/plain": [
       "                SKU   Sales  Season  offer\n",
       "ISO_Week                                  \n",
       "2018-01-28  colgate  6988.0  WINTER    0.0\n",
       "2018-01-28  colgate  6988.0  WINTER    0.0\n",
       "2018-02-04  colgate  6743.0  WINTER    0.0\n",
       "2018-02-11  colgate  4112.0  WINTER    0.0\n",
       "2018-02-18  colgate  5732.0  WINTER    0.0"
      ]
     },
     "execution_count": 158,
     "metadata": {},
     "output_type": "execute_result"
    }
   ],
   "source": [
    "data_colgate_train.head()"
   ]
  },
  {
   "cell_type": "code",
   "execution_count": 159,
   "metadata": {},
   "outputs": [
    {
     "data": {
      "text/html": [
       "<div>\n",
       "<style scoped>\n",
       "    .dataframe tbody tr th:only-of-type {\n",
       "        vertical-align: middle;\n",
       "    }\n",
       "\n",
       "    .dataframe tbody tr th {\n",
       "        vertical-align: top;\n",
       "    }\n",
       "\n",
       "    .dataframe thead th {\n",
       "        text-align: right;\n",
       "    }\n",
       "</style>\n",
       "<table border=\"1\" class=\"dataframe\">\n",
       "  <thead>\n",
       "    <tr style=\"text-align: right;\">\n",
       "      <th></th>\n",
       "      <th>offer</th>\n",
       "    </tr>\n",
       "    <tr>\n",
       "      <th>ISO_Week</th>\n",
       "      <th></th>\n",
       "    </tr>\n",
       "  </thead>\n",
       "  <tbody>\n",
       "    <tr>\n",
       "      <th>2018-10-21</th>\n",
       "      <td>0.0</td>\n",
       "    </tr>\n",
       "    <tr>\n",
       "      <th>2018-10-28</th>\n",
       "      <td>0.0</td>\n",
       "    </tr>\n",
       "    <tr>\n",
       "      <th>2018-11-04</th>\n",
       "      <td>0.0</td>\n",
       "    </tr>\n",
       "    <tr>\n",
       "      <th>2018-11-11</th>\n",
       "      <td>1.0</td>\n",
       "    </tr>\n",
       "    <tr>\n",
       "      <th>2018-11-18</th>\n",
       "      <td>0.0</td>\n",
       "    </tr>\n",
       "  </tbody>\n",
       "</table>\n",
       "</div>"
      ],
      "text/plain": [
       "            offer\n",
       "ISO_Week         \n",
       "2018-10-21    0.0\n",
       "2018-10-28    0.0\n",
       "2018-11-04    0.0\n",
       "2018-11-11    1.0\n",
       "2018-11-18    0.0"
      ]
     },
     "execution_count": 159,
     "metadata": {},
     "output_type": "execute_result"
    }
   ],
   "source": [
    "exog_var_forecast = data_colgate.loc['2018-10-20':,:]\n",
    "exog_var_forecast = exog_var_forecast[['offer']]\n",
    "exog_var_forecast.head()"
   ]
  },
  {
   "cell_type": "code",
   "execution_count": 160,
   "metadata": {},
   "outputs": [
    {
     "data": {
      "text/html": [
       "<div>\n",
       "<style scoped>\n",
       "    .dataframe tbody tr th:only-of-type {\n",
       "        vertical-align: middle;\n",
       "    }\n",
       "\n",
       "    .dataframe tbody tr th {\n",
       "        vertical-align: top;\n",
       "    }\n",
       "\n",
       "    .dataframe thead th {\n",
       "        text-align: right;\n",
       "    }\n",
       "</style>\n",
       "<table border=\"1\" class=\"dataframe\">\n",
       "  <thead>\n",
       "    <tr style=\"text-align: right;\">\n",
       "      <th></th>\n",
       "      <th>offer</th>\n",
       "    </tr>\n",
       "    <tr>\n",
       "      <th>ISO_Week</th>\n",
       "      <th></th>\n",
       "    </tr>\n",
       "  </thead>\n",
       "  <tbody>\n",
       "    <tr>\n",
       "      <th>2018-01-28</th>\n",
       "      <td>0.0</td>\n",
       "    </tr>\n",
       "    <tr>\n",
       "      <th>2018-01-28</th>\n",
       "      <td>0.0</td>\n",
       "    </tr>\n",
       "    <tr>\n",
       "      <th>2018-02-04</th>\n",
       "      <td>0.0</td>\n",
       "    </tr>\n",
       "    <tr>\n",
       "      <th>2018-02-11</th>\n",
       "      <td>0.0</td>\n",
       "    </tr>\n",
       "    <tr>\n",
       "      <th>2018-02-18</th>\n",
       "      <td>0.0</td>\n",
       "    </tr>\n",
       "  </tbody>\n",
       "</table>\n",
       "</div>"
      ],
      "text/plain": [
       "            offer\n",
       "ISO_Week         \n",
       "2018-01-28    0.0\n",
       "2018-01-28    0.0\n",
       "2018-02-04    0.0\n",
       "2018-02-11    0.0\n",
       "2018-02-18    0.0"
      ]
     },
     "execution_count": 160,
     "metadata": {},
     "output_type": "execute_result"
    }
   ],
   "source": [
    "exog_var_train = data_colgate_train.loc[:'2018-10-20',:]\n",
    "exog_var_train = exog_var_train[['offer']]\n",
    "exog_var_train.head()"
   ]
  },
  {
   "cell_type": "markdown",
   "metadata": {},
   "source": [
    "#### Fitting Sarimax"
   ]
  },
  {
   "cell_type": "code",
   "execution_count": 161,
   "metadata": {},
   "outputs": [
    {
     "name": "stderr",
     "output_type": "stream",
     "text": [
      "/home/jupyterlab/conda/lib/python3.6/site-packages/statsmodels/tsa/base/tsa_model.py:225: ValueWarning: A date index has been provided, but it has no associated frequency information and so will be ignored when e.g. forecasting.\n",
      "  ' ignored when e.g. forecasting.', ValueWarning)\n"
     ]
    }
   ],
   "source": [
    "from statsmodels.tsa.statespace.sarimax import SARIMAX\n",
    "model = SARIMAX(data_colgate_train[['Sales']],exog=exog_var_train[['offer']],\n",
    "    order=(0, 1, 0),\n",
    "    seasonal_order=(0, 1, 0, 12),\n",
    "    enforce_stationarity=True,\n",
    "    enforce_invertibility=False)"
   ]
  },
  {
   "cell_type": "code",
   "execution_count": 162,
   "metadata": {},
   "outputs": [],
   "source": [
    "SARIMAX_results = model.fit()"
   ]
  },
  {
   "cell_type": "markdown",
   "metadata": {},
   "source": [
    "#### Forecasting"
   ]
  },
  {
   "cell_type": "code",
   "execution_count": 163,
   "metadata": {},
   "outputs": [
    {
     "name": "stderr",
     "output_type": "stream",
     "text": [
      "/home/jupyterlab/conda/lib/python3.6/site-packages/statsmodels/tsa/base/tsa_model.py:531: ValueWarning: No supported index is available. Prediction results will be given with an integer index beginning at `start`.\n",
      "  ValueWarning)\n"
     ]
    }
   ],
   "source": [
    "SARIMAX_forecast=round(SARIMAX_results.forecast(steps = 11,exog = exog_var_forecast[['offer']]),2)"
   ]
  },
  {
   "cell_type": "code",
   "execution_count": 164,
   "metadata": {},
   "outputs": [],
   "source": [
    "colgate_forecast = pd.DataFrame(SARIMAX_forecast)\n",
    "colgate_forecast.columns=['Sales']"
   ]
  },
  {
   "cell_type": "code",
   "execution_count": 165,
   "metadata": {},
   "outputs": [
    {
     "name": "stderr",
     "output_type": "stream",
     "text": [
      "/home/jupyterlab/conda/lib/python3.6/site-packages/ipykernel_launcher.py:2: SettingWithCopyWarning: \n",
      "A value is trying to be set on a copy of a slice from a DataFrame.\n",
      "Try using .loc[row_indexer,col_indexer] = value instead\n",
      "\n",
      "See the caveats in the documentation: http://pandas.pydata.org/pandas-docs/stable/indexing.html#indexing-view-versus-copy\n",
      "  \n"
     ]
    }
   ],
   "source": [
    "data_colgate_forecast = data_colgate.loc['2018-10-20':,:]\n",
    "data_colgate_forecast['forecast']=colgate_forecast['Sales'].values\n",
    "data_colgate_forecast.index= data_colgate_forecast.index.strftime('%Y-%U')\n",
    "data_colgate_forecast.to_csv('colgate_forecast.csv')"
   ]
  },
  {
   "cell_type": "markdown",
   "metadata": {},
   "source": [
    "## Pepsodent"
   ]
  },
  {
   "cell_type": "code",
   "execution_count": 166,
   "metadata": {},
   "outputs": [
    {
     "data": {
      "text/html": [
       "<div>\n",
       "<style scoped>\n",
       "    .dataframe tbody tr th:only-of-type {\n",
       "        vertical-align: middle;\n",
       "    }\n",
       "\n",
       "    .dataframe tbody tr th {\n",
       "        vertical-align: top;\n",
       "    }\n",
       "\n",
       "    .dataframe thead th {\n",
       "        text-align: right;\n",
       "    }\n",
       "</style>\n",
       "<table border=\"1\" class=\"dataframe\">\n",
       "  <thead>\n",
       "    <tr style=\"text-align: right;\">\n",
       "      <th></th>\n",
       "      <th>SKU</th>\n",
       "      <th>Sales</th>\n",
       "      <th>Season</th>\n",
       "      <th>offer</th>\n",
       "    </tr>\n",
       "    <tr>\n",
       "      <th>ISO_Week</th>\n",
       "      <th></th>\n",
       "      <th></th>\n",
       "      <th></th>\n",
       "      <th></th>\n",
       "    </tr>\n",
       "  </thead>\n",
       "  <tbody>\n",
       "    <tr>\n",
       "      <th>2018-01-07</th>\n",
       "      <td>pepsodent</td>\n",
       "      <td>NaN</td>\n",
       "      <td>WINTER</td>\n",
       "      <td>0.0</td>\n",
       "    </tr>\n",
       "    <tr>\n",
       "      <th>2018-01-14</th>\n",
       "      <td>pepsodent</td>\n",
       "      <td>NaN</td>\n",
       "      <td>WINTER</td>\n",
       "      <td>0.0</td>\n",
       "    </tr>\n",
       "    <tr>\n",
       "      <th>2018-01-21</th>\n",
       "      <td>pepsodent</td>\n",
       "      <td>NaN</td>\n",
       "      <td>WINTER</td>\n",
       "      <td>0.0</td>\n",
       "    </tr>\n",
       "    <tr>\n",
       "      <th>2018-01-28</th>\n",
       "      <td>pepsodent</td>\n",
       "      <td>-23.0</td>\n",
       "      <td>WINTER</td>\n",
       "      <td>0.0</td>\n",
       "    </tr>\n",
       "    <tr>\n",
       "      <th>2018-02-04</th>\n",
       "      <td>pepsodent</td>\n",
       "      <td>446.0</td>\n",
       "      <td>WINTER</td>\n",
       "      <td>0.0</td>\n",
       "    </tr>\n",
       "  </tbody>\n",
       "</table>\n",
       "</div>"
      ],
      "text/plain": [
       "                  SKU  Sales  Season  offer\n",
       "ISO_Week                                   \n",
       "2018-01-07  pepsodent    NaN  WINTER    0.0\n",
       "2018-01-14  pepsodent    NaN  WINTER    0.0\n",
       "2018-01-21  pepsodent    NaN  WINTER    0.0\n",
       "2018-01-28  pepsodent  -23.0  WINTER    0.0\n",
       "2018-02-04  pepsodent  446.0  WINTER    0.0"
      ]
     },
     "execution_count": 166,
     "metadata": {},
     "output_type": "execute_result"
    }
   ],
   "source": [
    "df_pepsodent = df[df.SKU == 'pepsodent']\n",
    "exog_var_pepsodent = exog_var[exog_var.SKU=='pepsodent']\n",
    "exog_var_pepsodent.drop('SKU',axis =1,inplace=True)\n",
    "data_pepsodent = pd.merge(df_pepsodent,exog_var_pepsodent,on='ISO_Week',how = 'left')\n",
    "data_pepsodent['offer'].fillna(0,inplace = True)\n",
    "data_pepsodent.head()"
   ]
  },
  {
   "cell_type": "markdown",
   "metadata": {},
   "source": [
    "#### Creating Train Set"
   ]
  },
  {
   "cell_type": "code",
   "execution_count": 167,
   "metadata": {},
   "outputs": [],
   "source": [
    "data_pepsodent_train = data_pepsodent.loc[:'2018-10-20',:]"
   ]
  },
  {
   "cell_type": "markdown",
   "metadata": {},
   "source": [
    "#### Calculating Mean"
   ]
  },
  {
   "cell_type": "code",
   "execution_count": 168,
   "metadata": {},
   "outputs": [],
   "source": [
    "pepsodent_sales_mean = data_pepsodent_train[data_pepsodent_train.Sales>0].Sales.mean(skipna=True)"
   ]
  },
  {
   "cell_type": "markdown",
   "metadata": {},
   "source": [
    "#### Outlier Treatment"
   ]
  },
  {
   "cell_type": "code",
   "execution_count": 169,
   "metadata": {},
   "outputs": [],
   "source": [
    "data_pepsodent_train = data_pepsodent_train[np.abs(data_pepsodent_train.Sales-data_pepsodent_train.Sales.mean())<=(3*data_pepsodent_train.Sales.std())]"
   ]
  },
  {
   "cell_type": "markdown",
   "metadata": {},
   "source": [
    "#### NA and less than 0 Value Cleaning"
   ]
  },
  {
   "cell_type": "code",
   "execution_count": 170,
   "metadata": {},
   "outputs": [],
   "source": [
    "data_pepsodent_train.fillna(pepsodent_sales_mean,inplace = True)"
   ]
  },
  {
   "cell_type": "code",
   "execution_count": 171,
   "metadata": {},
   "outputs": [],
   "source": [
    "data_pepsodent_train = data_pepsodent_train[data_pepsodent_train.Sales>0]"
   ]
  },
  {
   "cell_type": "code",
   "execution_count": 172,
   "metadata": {},
   "outputs": [
    {
     "data": {
      "text/html": [
       "<div>\n",
       "<style scoped>\n",
       "    .dataframe tbody tr th:only-of-type {\n",
       "        vertical-align: middle;\n",
       "    }\n",
       "\n",
       "    .dataframe tbody tr th {\n",
       "        vertical-align: top;\n",
       "    }\n",
       "\n",
       "    .dataframe thead th {\n",
       "        text-align: right;\n",
       "    }\n",
       "</style>\n",
       "<table border=\"1\" class=\"dataframe\">\n",
       "  <thead>\n",
       "    <tr style=\"text-align: right;\">\n",
       "      <th></th>\n",
       "      <th>offer</th>\n",
       "    </tr>\n",
       "    <tr>\n",
       "      <th>ISO_Week</th>\n",
       "      <th></th>\n",
       "    </tr>\n",
       "  </thead>\n",
       "  <tbody>\n",
       "    <tr>\n",
       "      <th>2018-10-21</th>\n",
       "      <td>0.0</td>\n",
       "    </tr>\n",
       "    <tr>\n",
       "      <th>2018-10-28</th>\n",
       "      <td>0.0</td>\n",
       "    </tr>\n",
       "    <tr>\n",
       "      <th>2018-11-04</th>\n",
       "      <td>0.0</td>\n",
       "    </tr>\n",
       "    <tr>\n",
       "      <th>2018-11-11</th>\n",
       "      <td>0.0</td>\n",
       "    </tr>\n",
       "    <tr>\n",
       "      <th>2018-11-18</th>\n",
       "      <td>0.0</td>\n",
       "    </tr>\n",
       "  </tbody>\n",
       "</table>\n",
       "</div>"
      ],
      "text/plain": [
       "            offer\n",
       "ISO_Week         \n",
       "2018-10-21    0.0\n",
       "2018-10-28    0.0\n",
       "2018-11-04    0.0\n",
       "2018-11-11    0.0\n",
       "2018-11-18    0.0"
      ]
     },
     "execution_count": 172,
     "metadata": {},
     "output_type": "execute_result"
    }
   ],
   "source": [
    "exog_var_forecast = data_pepsodent.loc['2018-10-20':,:]\n",
    "exog_var_forecast = exog_var_forecast[['offer']]\n",
    "exog_var_forecast.head()"
   ]
  },
  {
   "cell_type": "code",
   "execution_count": 173,
   "metadata": {},
   "outputs": [
    {
     "data": {
      "text/html": [
       "<div>\n",
       "<style scoped>\n",
       "    .dataframe tbody tr th:only-of-type {\n",
       "        vertical-align: middle;\n",
       "    }\n",
       "\n",
       "    .dataframe tbody tr th {\n",
       "        vertical-align: top;\n",
       "    }\n",
       "\n",
       "    .dataframe thead th {\n",
       "        text-align: right;\n",
       "    }\n",
       "</style>\n",
       "<table border=\"1\" class=\"dataframe\">\n",
       "  <thead>\n",
       "    <tr style=\"text-align: right;\">\n",
       "      <th></th>\n",
       "      <th>offer</th>\n",
       "    </tr>\n",
       "    <tr>\n",
       "      <th>ISO_Week</th>\n",
       "      <th></th>\n",
       "    </tr>\n",
       "  </thead>\n",
       "  <tbody>\n",
       "    <tr>\n",
       "      <th>2018-02-04</th>\n",
       "      <td>0.0</td>\n",
       "    </tr>\n",
       "    <tr>\n",
       "      <th>2018-02-11</th>\n",
       "      <td>0.0</td>\n",
       "    </tr>\n",
       "    <tr>\n",
       "      <th>2018-02-18</th>\n",
       "      <td>0.0</td>\n",
       "    </tr>\n",
       "    <tr>\n",
       "      <th>2018-02-25</th>\n",
       "      <td>0.0</td>\n",
       "    </tr>\n",
       "    <tr>\n",
       "      <th>2018-02-25</th>\n",
       "      <td>0.0</td>\n",
       "    </tr>\n",
       "  </tbody>\n",
       "</table>\n",
       "</div>"
      ],
      "text/plain": [
       "            offer\n",
       "ISO_Week         \n",
       "2018-02-04    0.0\n",
       "2018-02-11    0.0\n",
       "2018-02-18    0.0\n",
       "2018-02-25    0.0\n",
       "2018-02-25    0.0"
      ]
     },
     "execution_count": 173,
     "metadata": {},
     "output_type": "execute_result"
    }
   ],
   "source": [
    "exog_var_train = data_pepsodent_train.loc[:'2018-10-20',:]\n",
    "exog_var_train = exog_var_train[['offer']]\n",
    "exog_var_train.head()"
   ]
  },
  {
   "cell_type": "markdown",
   "metadata": {},
   "source": [
    "#### Fitting SARIMAX"
   ]
  },
  {
   "cell_type": "code",
   "execution_count": 174,
   "metadata": {},
   "outputs": [
    {
     "name": "stderr",
     "output_type": "stream",
     "text": [
      "/home/jupyterlab/conda/lib/python3.6/site-packages/statsmodels/tsa/base/tsa_model.py:225: ValueWarning: A date index has been provided, but it has no associated frequency information and so will be ignored when e.g. forecasting.\n",
      "  ' ignored when e.g. forecasting.', ValueWarning)\n"
     ]
    }
   ],
   "source": [
    "from statsmodels.tsa.statespace.sarimax import SARIMAX\n",
    "model = SARIMAX(data_pepsodent_train[['Sales']],exog=exog_var_train[['offer']],\n",
    "    order=(0, 1, 0),\n",
    "    seasonal_order=(0, 1, 0, 12),\n",
    "    enforce_stationarity=True,\n",
    "    enforce_invertibility=False)"
   ]
  },
  {
   "cell_type": "code",
   "execution_count": 175,
   "metadata": {},
   "outputs": [],
   "source": [
    "SARIMAX_results = model.fit()"
   ]
  },
  {
   "cell_type": "markdown",
   "metadata": {},
   "source": [
    "#### Forecasting"
   ]
  },
  {
   "cell_type": "code",
   "execution_count": 176,
   "metadata": {},
   "outputs": [
    {
     "name": "stderr",
     "output_type": "stream",
     "text": [
      "/home/jupyterlab/conda/lib/python3.6/site-packages/statsmodels/tsa/base/tsa_model.py:531: ValueWarning: No supported index is available. Prediction results will be given with an integer index beginning at `start`.\n",
      "  ValueWarning)\n"
     ]
    }
   ],
   "source": [
    "SARIMAX_forecast=round(SARIMAX_results.forecast(steps = 11,exog = exog_var_forecast[['offer']]),2)"
   ]
  },
  {
   "cell_type": "code",
   "execution_count": 177,
   "metadata": {},
   "outputs": [],
   "source": [
    "pepsodent_forecast = pd.DataFrame(SARIMAX_forecast)\n",
    "pepsodent_forecast.columns=['Sales']"
   ]
  },
  {
   "cell_type": "code",
   "execution_count": 178,
   "metadata": {},
   "outputs": [
    {
     "name": "stderr",
     "output_type": "stream",
     "text": [
      "/home/jupyterlab/conda/lib/python3.6/site-packages/ipykernel_launcher.py:2: SettingWithCopyWarning: \n",
      "A value is trying to be set on a copy of a slice from a DataFrame.\n",
      "Try using .loc[row_indexer,col_indexer] = value instead\n",
      "\n",
      "See the caveats in the documentation: http://pandas.pydata.org/pandas-docs/stable/indexing.html#indexing-view-versus-copy\n",
      "  \n"
     ]
    }
   ],
   "source": [
    "data_pepsodent_forecast = data_pepsodent.loc['2018-10-20':,:]\n",
    "data_pepsodent_forecast['forecast']=pepsodent_forecast['Sales'].values\n",
    "data_pepsodent_forecast.index= data_pepsodent_forecast.index.strftime('%Y-%U')\n",
    "data_pepsodent_forecast.to_csv('pepsodent_forecast.csv')"
   ]
  },
  {
   "cell_type": "markdown",
   "metadata": {},
   "source": [
    "## CloseUp"
   ]
  },
  {
   "cell_type": "code",
   "execution_count": 179,
   "metadata": {},
   "outputs": [
    {
     "data": {
      "text/html": [
       "<div>\n",
       "<style scoped>\n",
       "    .dataframe tbody tr th:only-of-type {\n",
       "        vertical-align: middle;\n",
       "    }\n",
       "\n",
       "    .dataframe tbody tr th {\n",
       "        vertical-align: top;\n",
       "    }\n",
       "\n",
       "    .dataframe thead th {\n",
       "        text-align: right;\n",
       "    }\n",
       "</style>\n",
       "<table border=\"1\" class=\"dataframe\">\n",
       "  <thead>\n",
       "    <tr style=\"text-align: right;\">\n",
       "      <th></th>\n",
       "      <th>SKU</th>\n",
       "      <th>Sales</th>\n",
       "      <th>Season</th>\n",
       "      <th>offer</th>\n",
       "    </tr>\n",
       "    <tr>\n",
       "      <th>ISO_Week</th>\n",
       "      <th></th>\n",
       "      <th></th>\n",
       "      <th></th>\n",
       "      <th></th>\n",
       "    </tr>\n",
       "  </thead>\n",
       "  <tbody>\n",
       "    <tr>\n",
       "      <th>2018-03-18</th>\n",
       "      <td>closeup</td>\n",
       "      <td>5495.0</td>\n",
       "      <td>SPRING</td>\n",
       "      <td>0.0</td>\n",
       "    </tr>\n",
       "    <tr>\n",
       "      <th>2018-03-25</th>\n",
       "      <td>closeup</td>\n",
       "      <td>6330.0</td>\n",
       "      <td>SPRING</td>\n",
       "      <td>0.0</td>\n",
       "    </tr>\n",
       "    <tr>\n",
       "      <th>2018-04-01</th>\n",
       "      <td>closeup</td>\n",
       "      <td>6144.0</td>\n",
       "      <td>SPRING</td>\n",
       "      <td>0.0</td>\n",
       "    </tr>\n",
       "    <tr>\n",
       "      <th>2018-04-08</th>\n",
       "      <td>closeup</td>\n",
       "      <td>6383.0</td>\n",
       "      <td>SPRING</td>\n",
       "      <td>0.0</td>\n",
       "    </tr>\n",
       "    <tr>\n",
       "      <th>2018-04-15</th>\n",
       "      <td>closeup</td>\n",
       "      <td>5533.0</td>\n",
       "      <td>SPRING</td>\n",
       "      <td>0.0</td>\n",
       "    </tr>\n",
       "  </tbody>\n",
       "</table>\n",
       "</div>"
      ],
      "text/plain": [
       "                SKU   Sales  Season  offer\n",
       "ISO_Week                                  \n",
       "2018-03-18  closeup  5495.0  SPRING    0.0\n",
       "2018-03-25  closeup  6330.0  SPRING    0.0\n",
       "2018-04-01  closeup  6144.0  SPRING    0.0\n",
       "2018-04-08  closeup  6383.0  SPRING    0.0\n",
       "2018-04-15  closeup  5533.0  SPRING    0.0"
      ]
     },
     "execution_count": 179,
     "metadata": {},
     "output_type": "execute_result"
    }
   ],
   "source": [
    "df_closeup = df[df.SKU == 'closeup']\n",
    "exog_var_closeup = exog_var[exog_var.SKU=='closeup']\n",
    "exog_var_closeup.drop('SKU',axis =1,inplace=True)\n",
    "data_closeup = pd.merge(df_closeup,exog_var_closeup,on='ISO_Week',how = 'left')\n",
    "data_closeup.drop_duplicates(inplace=True)\n",
    "data_closeup['offer'].fillna(0,inplace = True)\n",
    "data_closeup.head()"
   ]
  },
  {
   "cell_type": "markdown",
   "metadata": {},
   "source": [
    "#### Creating Train Set"
   ]
  },
  {
   "cell_type": "code",
   "execution_count": 180,
   "metadata": {},
   "outputs": [],
   "source": [
    "data_closeup_train = data_closeup.loc[:'2018-10-20',:]"
   ]
  },
  {
   "cell_type": "markdown",
   "metadata": {},
   "source": [
    "#### Calculating Mean"
   ]
  },
  {
   "cell_type": "code",
   "execution_count": 181,
   "metadata": {},
   "outputs": [],
   "source": [
    "closeup_sales_mean = data_closeup_train[data_closeup_train.Sales>0].Sales.mean(skipna=True)"
   ]
  },
  {
   "cell_type": "markdown",
   "metadata": {},
   "source": [
    "#### Outlier Treatment"
   ]
  },
  {
   "cell_type": "code",
   "execution_count": 182,
   "metadata": {},
   "outputs": [],
   "source": [
    "data_closeup_train = data_closeup_train[np.abs(data_closeup_train.Sales-data_closeup_train.Sales.mean())<=(3*data_closeup_train.Sales.std())]\n",
    "\n"
   ]
  },
  {
   "cell_type": "markdown",
   "metadata": {},
   "source": [
    "#### NA and less than 0 Value Cleaning"
   ]
  },
  {
   "cell_type": "code",
   "execution_count": 183,
   "metadata": {},
   "outputs": [],
   "source": [
    "data_closeup_train.fillna(closeup_sales_mean,inplace = True)"
   ]
  },
  {
   "cell_type": "code",
   "execution_count": 184,
   "metadata": {},
   "outputs": [],
   "source": [
    "data_closeup_train = data_closeup_train[data_closeup_train.Sales>0]"
   ]
  },
  {
   "cell_type": "code",
   "execution_count": 185,
   "metadata": {},
   "outputs": [
    {
     "data": {
      "text/html": [
       "<div>\n",
       "<style scoped>\n",
       "    .dataframe tbody tr th:only-of-type {\n",
       "        vertical-align: middle;\n",
       "    }\n",
       "\n",
       "    .dataframe tbody tr th {\n",
       "        vertical-align: top;\n",
       "    }\n",
       "\n",
       "    .dataframe thead th {\n",
       "        text-align: right;\n",
       "    }\n",
       "</style>\n",
       "<table border=\"1\" class=\"dataframe\">\n",
       "  <thead>\n",
       "    <tr style=\"text-align: right;\">\n",
       "      <th></th>\n",
       "      <th>offer</th>\n",
       "    </tr>\n",
       "    <tr>\n",
       "      <th>ISO_Week</th>\n",
       "      <th></th>\n",
       "    </tr>\n",
       "  </thead>\n",
       "  <tbody>\n",
       "    <tr>\n",
       "      <th>2018-10-21</th>\n",
       "      <td>0.0</td>\n",
       "    </tr>\n",
       "    <tr>\n",
       "      <th>2018-10-28</th>\n",
       "      <td>0.0</td>\n",
       "    </tr>\n",
       "    <tr>\n",
       "      <th>2018-11-04</th>\n",
       "      <td>0.0</td>\n",
       "    </tr>\n",
       "    <tr>\n",
       "      <th>2018-11-11</th>\n",
       "      <td>0.0</td>\n",
       "    </tr>\n",
       "    <tr>\n",
       "      <th>2018-11-18</th>\n",
       "      <td>1.0</td>\n",
       "    </tr>\n",
       "  </tbody>\n",
       "</table>\n",
       "</div>"
      ],
      "text/plain": [
       "            offer\n",
       "ISO_Week         \n",
       "2018-10-21    0.0\n",
       "2018-10-28    0.0\n",
       "2018-11-04    0.0\n",
       "2018-11-11    0.0\n",
       "2018-11-18    1.0"
      ]
     },
     "execution_count": 185,
     "metadata": {},
     "output_type": "execute_result"
    }
   ],
   "source": [
    "exog_var_forecast = data_closeup.loc['2018-10-20':,:]\n",
    "exog_var_forecast = exog_var_forecast[['offer']]\n",
    "exog_var_forecast.head()"
   ]
  },
  {
   "cell_type": "code",
   "execution_count": 186,
   "metadata": {},
   "outputs": [
    {
     "data": {
      "text/html": [
       "<div>\n",
       "<style scoped>\n",
       "    .dataframe tbody tr th:only-of-type {\n",
       "        vertical-align: middle;\n",
       "    }\n",
       "\n",
       "    .dataframe tbody tr th {\n",
       "        vertical-align: top;\n",
       "    }\n",
       "\n",
       "    .dataframe thead th {\n",
       "        text-align: right;\n",
       "    }\n",
       "</style>\n",
       "<table border=\"1\" class=\"dataframe\">\n",
       "  <thead>\n",
       "    <tr style=\"text-align: right;\">\n",
       "      <th></th>\n",
       "      <th>offer</th>\n",
       "    </tr>\n",
       "    <tr>\n",
       "      <th>ISO_Week</th>\n",
       "      <th></th>\n",
       "    </tr>\n",
       "  </thead>\n",
       "  <tbody>\n",
       "    <tr>\n",
       "      <th>2018-03-18</th>\n",
       "      <td>0.0</td>\n",
       "    </tr>\n",
       "    <tr>\n",
       "      <th>2018-03-25</th>\n",
       "      <td>0.0</td>\n",
       "    </tr>\n",
       "    <tr>\n",
       "      <th>2018-04-01</th>\n",
       "      <td>0.0</td>\n",
       "    </tr>\n",
       "    <tr>\n",
       "      <th>2018-04-08</th>\n",
       "      <td>0.0</td>\n",
       "    </tr>\n",
       "    <tr>\n",
       "      <th>2018-04-15</th>\n",
       "      <td>0.0</td>\n",
       "    </tr>\n",
       "  </tbody>\n",
       "</table>\n",
       "</div>"
      ],
      "text/plain": [
       "            offer\n",
       "ISO_Week         \n",
       "2018-03-18    0.0\n",
       "2018-03-25    0.0\n",
       "2018-04-01    0.0\n",
       "2018-04-08    0.0\n",
       "2018-04-15    0.0"
      ]
     },
     "execution_count": 186,
     "metadata": {},
     "output_type": "execute_result"
    }
   ],
   "source": [
    "exog_var_train = data_closeup_train.loc[:'2018-10-20',:]\n",
    "exog_var_train = exog_var_train[['offer']]\n",
    "exog_var_train.head()"
   ]
  },
  {
   "cell_type": "markdown",
   "metadata": {},
   "source": [
    "#### Fitting SARIMAX"
   ]
  },
  {
   "cell_type": "code",
   "execution_count": 194,
   "metadata": {},
   "outputs": [
    {
     "name": "stderr",
     "output_type": "stream",
     "text": [
      "/home/jupyterlab/conda/lib/python3.6/site-packages/statsmodels/tsa/base/tsa_model.py:225: ValueWarning: A date index has been provided, but it has no associated frequency information and so will be ignored when e.g. forecasting.\n",
      "  ' ignored when e.g. forecasting.', ValueWarning)\n"
     ]
    }
   ],
   "source": [
    "from statsmodels.tsa.statespace.sarimax import SARIMAX\n",
    "model = SARIMAX(data_closeup_train[['Sales']],exog=exog_var_train[['offer']],\n",
    "    order=(0, 1, 0),\n",
    "    seasonal_order=(0, 1, 0, 12),\n",
    "    enforce_stationarity=True,\n",
    "    enforce_invertibility=False)"
   ]
  },
  {
   "cell_type": "code",
   "execution_count": 195,
   "metadata": {},
   "outputs": [],
   "source": [
    "SARIMAX_results = model.fit()"
   ]
  },
  {
   "cell_type": "markdown",
   "metadata": {},
   "source": [
    "#### Forecasting"
   ]
  },
  {
   "cell_type": "code",
   "execution_count": 196,
   "metadata": {},
   "outputs": [],
   "source": [
    "closeup_forecast = pd.DataFrame(SARIMAX_forecast)\n",
    "closeup_forecast.columns=['Sales']"
   ]
  },
  {
   "cell_type": "code",
   "execution_count": 197,
   "metadata": {},
   "outputs": [
    {
     "name": "stderr",
     "output_type": "stream",
     "text": [
      "/home/jupyterlab/conda/lib/python3.6/site-packages/statsmodels/tsa/base/tsa_model.py:531: ValueWarning: No supported index is available. Prediction results will be given with an integer index beginning at `start`.\n",
      "  ValueWarning)\n"
     ]
    }
   ],
   "source": [
    "SARIMAX_forecast=round(SARIMAX_results.forecast(steps = 11,exog = exog_var_forecast[['offer']]),2)"
   ]
  },
  {
   "cell_type": "code",
   "execution_count": 198,
   "metadata": {},
   "outputs": [
    {
     "name": "stderr",
     "output_type": "stream",
     "text": [
      "/home/jupyterlab/conda/lib/python3.6/site-packages/ipykernel_launcher.py:2: SettingWithCopyWarning: \n",
      "A value is trying to be set on a copy of a slice from a DataFrame.\n",
      "Try using .loc[row_indexer,col_indexer] = value instead\n",
      "\n",
      "See the caveats in the documentation: http://pandas.pydata.org/pandas-docs/stable/indexing.html#indexing-view-versus-copy\n",
      "  \n"
     ]
    }
   ],
   "source": [
    "data_closeup_forecast = data_closeup.loc['2018-10-20':,:]\n",
    "data_closeup_forecast['forecast']=closeup_forecast['Sales'].values\n",
    "data_closeup_forecast.index= data_closeup_forecast.index.strftime('%Y-%U')\n",
    "data_closeup_forecast.to_csv('closeup_forecast.csv')"
   ]
  },
  {
   "cell_type": "markdown",
   "metadata": {},
   "source": [
    "## Consolidation"
   ]
  },
  {
   "cell_type": "code",
   "execution_count": 199,
   "metadata": {},
   "outputs": [],
   "source": [
    "forecast = pd.concat([data_colgate_forecast,data_pepsodent_forecast,data_closeup_forecast],axis = 0)"
   ]
  },
  {
   "cell_type": "code",
   "execution_count": 200,
   "metadata": {},
   "outputs": [
    {
     "data": {
      "text/html": [
       "<div>\n",
       "<style scoped>\n",
       "    .dataframe tbody tr th:only-of-type {\n",
       "        vertical-align: middle;\n",
       "    }\n",
       "\n",
       "    .dataframe tbody tr th {\n",
       "        vertical-align: top;\n",
       "    }\n",
       "\n",
       "    .dataframe thead th {\n",
       "        text-align: right;\n",
       "    }\n",
       "</style>\n",
       "<table border=\"1\" class=\"dataframe\">\n",
       "  <thead>\n",
       "    <tr style=\"text-align: right;\">\n",
       "      <th></th>\n",
       "      <th>SKU</th>\n",
       "      <th>Sales</th>\n",
       "      <th>Season</th>\n",
       "      <th>offer</th>\n",
       "      <th>forecast</th>\n",
       "    </tr>\n",
       "  </thead>\n",
       "  <tbody>\n",
       "    <tr>\n",
       "      <th>2018-42</th>\n",
       "      <td>colgate</td>\n",
       "      <td>4740.0</td>\n",
       "      <td>AUTUMN</td>\n",
       "      <td>0.0</td>\n",
       "      <td>4759.00</td>\n",
       "    </tr>\n",
       "    <tr>\n",
       "      <th>2018-43</th>\n",
       "      <td>colgate</td>\n",
       "      <td>4341.0</td>\n",
       "      <td>AUTUMN</td>\n",
       "      <td>0.0</td>\n",
       "      <td>4423.00</td>\n",
       "    </tr>\n",
       "    <tr>\n",
       "      <th>2018-44</th>\n",
       "      <td>colgate</td>\n",
       "      <td>5363.0</td>\n",
       "      <td>AUTUMN</td>\n",
       "      <td>0.0</td>\n",
       "      <td>6624.00</td>\n",
       "    </tr>\n",
       "    <tr>\n",
       "      <th>2018-45</th>\n",
       "      <td>colgate</td>\n",
       "      <td>12120.0</td>\n",
       "      <td>AUTUMN</td>\n",
       "      <td>1.0</td>\n",
       "      <td>9238.19</td>\n",
       "    </tr>\n",
       "    <tr>\n",
       "      <th>2018-46</th>\n",
       "      <td>colgate</td>\n",
       "      <td>3314.0</td>\n",
       "      <td>AUTUMN</td>\n",
       "      <td>0.0</td>\n",
       "      <td>2880.00</td>\n",
       "    </tr>\n",
       "    <tr>\n",
       "      <th>2018-47</th>\n",
       "      <td>colgate</td>\n",
       "      <td>4673.0</td>\n",
       "      <td>AUTUMN</td>\n",
       "      <td>0.0</td>\n",
       "      <td>3269.00</td>\n",
       "    </tr>\n",
       "    <tr>\n",
       "      <th>2018-48</th>\n",
       "      <td>colgate</td>\n",
       "      <td>12376.0</td>\n",
       "      <td>AUTUMN</td>\n",
       "      <td>1.0</td>\n",
       "      <td>10569.19</td>\n",
       "    </tr>\n",
       "    <tr>\n",
       "      <th>2018-49</th>\n",
       "      <td>colgate</td>\n",
       "      <td>14853.0</td>\n",
       "      <td>WINTER</td>\n",
       "      <td>1.0</td>\n",
       "      <td>8705.19</td>\n",
       "    </tr>\n",
       "    <tr>\n",
       "      <th>2018-50</th>\n",
       "      <td>colgate</td>\n",
       "      <td>12447.0</td>\n",
       "      <td>WINTER</td>\n",
       "      <td>1.0</td>\n",
       "      <td>9312.19</td>\n",
       "    </tr>\n",
       "    <tr>\n",
       "      <th>2018-51</th>\n",
       "      <td>colgate</td>\n",
       "      <td>12247.0</td>\n",
       "      <td>WINTER</td>\n",
       "      <td>1.0</td>\n",
       "      <td>12135.19</td>\n",
       "    </tr>\n",
       "    <tr>\n",
       "      <th>2018-52</th>\n",
       "      <td>colgate</td>\n",
       "      <td>13679.0</td>\n",
       "      <td>WINTER</td>\n",
       "      <td>1.0</td>\n",
       "      <td>12289.19</td>\n",
       "    </tr>\n",
       "    <tr>\n",
       "      <th>2018-42</th>\n",
       "      <td>pepsodent</td>\n",
       "      <td>-23.0</td>\n",
       "      <td>AUTUMN</td>\n",
       "      <td>0.0</td>\n",
       "      <td>375.00</td>\n",
       "    </tr>\n",
       "    <tr>\n",
       "      <th>2018-43</th>\n",
       "      <td>pepsodent</td>\n",
       "      <td>0.0</td>\n",
       "      <td>AUTUMN</td>\n",
       "      <td>0.0</td>\n",
       "      <td>364.00</td>\n",
       "    </tr>\n",
       "    <tr>\n",
       "      <th>2018-44</th>\n",
       "      <td>pepsodent</td>\n",
       "      <td>0.0</td>\n",
       "      <td>AUTUMN</td>\n",
       "      <td>0.0</td>\n",
       "      <td>271.00</td>\n",
       "    </tr>\n",
       "    <tr>\n",
       "      <th>2018-45</th>\n",
       "      <td>pepsodent</td>\n",
       "      <td>0.0</td>\n",
       "      <td>AUTUMN</td>\n",
       "      <td>0.0</td>\n",
       "      <td>223.00</td>\n",
       "    </tr>\n",
       "    <tr>\n",
       "      <th>2018-46</th>\n",
       "      <td>pepsodent</td>\n",
       "      <td>376.0</td>\n",
       "      <td>AUTUMN</td>\n",
       "      <td>0.0</td>\n",
       "      <td>344.00</td>\n",
       "    </tr>\n",
       "    <tr>\n",
       "      <th>2018-47</th>\n",
       "      <td>pepsodent</td>\n",
       "      <td>483.0</td>\n",
       "      <td>AUTUMN</td>\n",
       "      <td>0.0</td>\n",
       "      <td>224.00</td>\n",
       "    </tr>\n",
       "    <tr>\n",
       "      <th>2018-48</th>\n",
       "      <td>pepsodent</td>\n",
       "      <td>301.0</td>\n",
       "      <td>AUTUMN</td>\n",
       "      <td>0.0</td>\n",
       "      <td>311.00</td>\n",
       "    </tr>\n",
       "    <tr>\n",
       "      <th>2018-49</th>\n",
       "      <td>pepsodent</td>\n",
       "      <td>489.0</td>\n",
       "      <td>WINTER</td>\n",
       "      <td>0.0</td>\n",
       "      <td>216.00</td>\n",
       "    </tr>\n",
       "    <tr>\n",
       "      <th>2018-50</th>\n",
       "      <td>pepsodent</td>\n",
       "      <td>487.0</td>\n",
       "      <td>WINTER</td>\n",
       "      <td>0.0</td>\n",
       "      <td>276.00</td>\n",
       "    </tr>\n",
       "    <tr>\n",
       "      <th>2018-51</th>\n",
       "      <td>pepsodent</td>\n",
       "      <td>464.0</td>\n",
       "      <td>WINTER</td>\n",
       "      <td>0.0</td>\n",
       "      <td>370.00</td>\n",
       "    </tr>\n",
       "    <tr>\n",
       "      <th>2018-52</th>\n",
       "      <td>pepsodent</td>\n",
       "      <td>488.0</td>\n",
       "      <td>WINTER</td>\n",
       "      <td>0.0</td>\n",
       "      <td>368.00</td>\n",
       "    </tr>\n",
       "    <tr>\n",
       "      <th>2018-42</th>\n",
       "      <td>closeup</td>\n",
       "      <td>3768.0</td>\n",
       "      <td>AUTUMN</td>\n",
       "      <td>0.0</td>\n",
       "      <td>3227.00</td>\n",
       "    </tr>\n",
       "    <tr>\n",
       "      <th>2018-43</th>\n",
       "      <td>closeup</td>\n",
       "      <td>3929.0</td>\n",
       "      <td>AUTUMN</td>\n",
       "      <td>0.0</td>\n",
       "      <td>2798.00</td>\n",
       "    </tr>\n",
       "    <tr>\n",
       "      <th>2018-44</th>\n",
       "      <td>closeup</td>\n",
       "      <td>4588.0</td>\n",
       "      <td>AUTUMN</td>\n",
       "      <td>0.0</td>\n",
       "      <td>2434.00</td>\n",
       "    </tr>\n",
       "    <tr>\n",
       "      <th>2018-45</th>\n",
       "      <td>closeup</td>\n",
       "      <td>3212.0</td>\n",
       "      <td>AUTUMN</td>\n",
       "      <td>0.0</td>\n",
       "      <td>3799.00</td>\n",
       "    </tr>\n",
       "    <tr>\n",
       "      <th>2018-46</th>\n",
       "      <td>closeup</td>\n",
       "      <td>14521.0</td>\n",
       "      <td>AUTUMN</td>\n",
       "      <td>1.0</td>\n",
       "      <td>9609.00</td>\n",
       "    </tr>\n",
       "    <tr>\n",
       "      <th>2018-47</th>\n",
       "      <td>closeup</td>\n",
       "      <td>14510.0</td>\n",
       "      <td>AUTUMN</td>\n",
       "      <td>1.0</td>\n",
       "      <td>8143.00</td>\n",
       "    </tr>\n",
       "    <tr>\n",
       "      <th>2018-48</th>\n",
       "      <td>closeup</td>\n",
       "      <td>12927.0</td>\n",
       "      <td>AUTUMN</td>\n",
       "      <td>1.0</td>\n",
       "      <td>9495.00</td>\n",
       "    </tr>\n",
       "    <tr>\n",
       "      <th>2018-49</th>\n",
       "      <td>closeup</td>\n",
       "      <td>11595.0</td>\n",
       "      <td>WINTER</td>\n",
       "      <td>1.0</td>\n",
       "      <td>9802.00</td>\n",
       "    </tr>\n",
       "    <tr>\n",
       "      <th>2018-50</th>\n",
       "      <td>closeup</td>\n",
       "      <td>10061.0</td>\n",
       "      <td>WINTER</td>\n",
       "      <td>1.0</td>\n",
       "      <td>7811.00</td>\n",
       "    </tr>\n",
       "    <tr>\n",
       "      <th>2018-51</th>\n",
       "      <td>closeup</td>\n",
       "      <td>10859.0</td>\n",
       "      <td>WINTER</td>\n",
       "      <td>1.0</td>\n",
       "      <td>7983.00</td>\n",
       "    </tr>\n",
       "    <tr>\n",
       "      <th>2018-52</th>\n",
       "      <td>closeup</td>\n",
       "      <td>13093.0</td>\n",
       "      <td>WINTER</td>\n",
       "      <td>1.0</td>\n",
       "      <td>7356.00</td>\n",
       "    </tr>\n",
       "  </tbody>\n",
       "</table>\n",
       "</div>"
      ],
      "text/plain": [
       "               SKU    Sales  Season  offer  forecast\n",
       "2018-42    colgate   4740.0  AUTUMN    0.0   4759.00\n",
       "2018-43    colgate   4341.0  AUTUMN    0.0   4423.00\n",
       "2018-44    colgate   5363.0  AUTUMN    0.0   6624.00\n",
       "2018-45    colgate  12120.0  AUTUMN    1.0   9238.19\n",
       "2018-46    colgate   3314.0  AUTUMN    0.0   2880.00\n",
       "2018-47    colgate   4673.0  AUTUMN    0.0   3269.00\n",
       "2018-48    colgate  12376.0  AUTUMN    1.0  10569.19\n",
       "2018-49    colgate  14853.0  WINTER    1.0   8705.19\n",
       "2018-50    colgate  12447.0  WINTER    1.0   9312.19\n",
       "2018-51    colgate  12247.0  WINTER    1.0  12135.19\n",
       "2018-52    colgate  13679.0  WINTER    1.0  12289.19\n",
       "2018-42  pepsodent    -23.0  AUTUMN    0.0    375.00\n",
       "2018-43  pepsodent      0.0  AUTUMN    0.0    364.00\n",
       "2018-44  pepsodent      0.0  AUTUMN    0.0    271.00\n",
       "2018-45  pepsodent      0.0  AUTUMN    0.0    223.00\n",
       "2018-46  pepsodent    376.0  AUTUMN    0.0    344.00\n",
       "2018-47  pepsodent    483.0  AUTUMN    0.0    224.00\n",
       "2018-48  pepsodent    301.0  AUTUMN    0.0    311.00\n",
       "2018-49  pepsodent    489.0  WINTER    0.0    216.00\n",
       "2018-50  pepsodent    487.0  WINTER    0.0    276.00\n",
       "2018-51  pepsodent    464.0  WINTER    0.0    370.00\n",
       "2018-52  pepsodent    488.0  WINTER    0.0    368.00\n",
       "2018-42    closeup   3768.0  AUTUMN    0.0   3227.00\n",
       "2018-43    closeup   3929.0  AUTUMN    0.0   2798.00\n",
       "2018-44    closeup   4588.0  AUTUMN    0.0   2434.00\n",
       "2018-45    closeup   3212.0  AUTUMN    0.0   3799.00\n",
       "2018-46    closeup  14521.0  AUTUMN    1.0   9609.00\n",
       "2018-47    closeup  14510.0  AUTUMN    1.0   8143.00\n",
       "2018-48    closeup  12927.0  AUTUMN    1.0   9495.00\n",
       "2018-49    closeup  11595.0  WINTER    1.0   9802.00\n",
       "2018-50    closeup  10061.0  WINTER    1.0   7811.00\n",
       "2018-51    closeup  10859.0  WINTER    1.0   7983.00\n",
       "2018-52    closeup  13093.0  WINTER    1.0   7356.00"
      ]
     },
     "execution_count": 200,
     "metadata": {},
     "output_type": "execute_result"
    }
   ],
   "source": [
    "forecast"
   ]
  },
  {
   "cell_type": "code",
   "execution_count": 201,
   "metadata": {},
   "outputs": [],
   "source": [
    "forecast.to_csv('forecast.csv')"
   ]
  },
  {
   "cell_type": "code",
   "execution_count": null,
   "metadata": {},
   "outputs": [],
   "source": []
  }
 ],
 "metadata": {
  "kernelspec": {
   "display_name": "Python 3",
   "language": "python",
   "name": "python3"
  },
  "language_info": {
   "codemirror_mode": {
    "name": "ipython",
    "version": 3
   },
   "file_extension": ".py",
   "mimetype": "text/x-python",
   "name": "python",
   "nbconvert_exporter": "python",
   "pygments_lexer": "ipython3",
   "version": "3.6.8"
  }
 },
 "nbformat": 4,
 "nbformat_minor": 2
}
